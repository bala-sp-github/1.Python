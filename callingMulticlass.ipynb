{
 "cells": [
  {
   "cell_type": "code",
   "execution_count": 3,
   "id": "3e5887ca-0f32-4da2-b0be-5f28b13a47e6",
   "metadata": {},
   "outputs": [],
   "source": [
    "from multiclass import allclasses"
   ]
  },
  {
   "cell_type": "code",
   "execution_count": 4,
   "id": "9631dd12-9662-46a8-8478-e47eb22b71ee",
   "metadata": {},
   "outputs": [
    {
     "name": "stdout",
     "output_type": "stream",
     "text": [
      "Height: 32\n",
      "Breadth: 34\n",
      "Area formula: (Height*Breadth)/2\n",
      "Area of Triangle: 544.0\n",
      "Height1: 2\n",
      "Height2: 4\n",
      "Breadth: 4\n",
      "Perimeter formula: Height1+Height2+Breadth\n",
      "Perimeter of Triangle: 10\n"
     ]
    }
   ],
   "source": [
    "allclasses.triangle()"
   ]
  },
  {
   "cell_type": "code",
   "execution_count": 5,
   "id": "906a9be7-6f80-4165-a44f-7cfd533ed397",
   "metadata": {},
   "outputs": [
    {
     "name": "stdin",
     "output_type": "stream",
     "text": [
      "Enter your age : 22\n",
      "Enter your gender (Male/Female) : Male\n"
     ]
    },
    {
     "name": "stdout",
     "output_type": "stream",
     "text": [
      "Your Gender :  Male\n",
      "Your Age :  22\n",
      "Eligible\n"
     ]
    }
   ],
   "source": [
    "allclasses.Elegible()"
   ]
  },
  {
   "cell_type": "code",
   "execution_count": 6,
   "id": "d1bc2a21-79d1-4f23-8009-ce24a22e9bb9",
   "metadata": {},
   "outputs": [
    {
     "name": "stdin",
     "output_type": "stream",
     "text": [
      "Enter a number :  45\n"
     ]
    },
    {
     "name": "stdout",
     "output_type": "stream",
     "text": [
      "45 is Odd number\n"
     ]
    }
   ],
   "source": [
    "allclasses.OddEven()"
   ]
  },
  {
   "cell_type": "code",
   "execution_count": 7,
   "id": "259b2e81-dade-4d91-921e-5ad8036ae453",
   "metadata": {},
   "outputs": [
    {
     "name": "stdout",
     "output_type": "stream",
     "text": [
      "Machine Learning\n",
      "Neural Networks\n",
      "Vision,Robotics\n",
      "Speech Processing\n",
      "Natural Language Processing\n"
     ]
    }
   ],
   "source": [
    "allclasses.Subfields()"
   ]
  },
  {
   "cell_type": "code",
   "execution_count": 8,
   "id": "ef614751-e1c9-4119-9a16-b34cbc1c0cd7",
   "metadata": {},
   "outputs": [
    {
     "name": "stdout",
     "output_type": "stream",
     "text": [
      "Subject1 = 98\n",
      "Subject2 = 87\n",
      "Subject3 = 95\n",
      "Subject4 = 95\n",
      "Subject5 = 93\n",
      "Total: 468\n",
      "Percentage: 93.6\n"
     ]
    }
   ],
   "source": [
    "allclasses.percentage()"
   ]
  },
  {
   "cell_type": "code",
   "execution_count": null,
   "id": "2d822a62-175f-49ee-9ca1-22ad42586301",
   "metadata": {},
   "outputs": [],
   "source": []
  }
 ],
 "metadata": {
  "kernelspec": {
   "display_name": "Python 3 (ipykernel)",
   "language": "python",
   "name": "python3"
  },
  "language_info": {
   "codemirror_mode": {
    "name": "ipython",
    "version": 3
   },
   "file_extension": ".py",
   "mimetype": "text/x-python",
   "name": "python",
   "nbconvert_exporter": "python",
   "pygments_lexer": "ipython3",
   "version": "3.12.7"
  }
 },
 "nbformat": 4,
 "nbformat_minor": 5
}
