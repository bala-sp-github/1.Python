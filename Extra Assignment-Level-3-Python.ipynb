{
 "cells": [
  {
   "cell_type": "code",
   "execution_count": 1,
   "id": "daead32d-4c76-42b3-8dea-37b1ad2ac2f4",
   "metadata": {},
   "outputs": [
    {
     "name": "stdout",
     "output_type": "stream",
     "text": [
      "Value:  10\n",
      "Correct\n"
     ]
    }
   ],
   "source": [
    "i=10\n",
    "print(\"Value: \",i)\n",
    "if(i == 10):\n",
    "    print(\"Correct\")\n"
   ]
  },
  {
   "cell_type": "code",
   "execution_count": 6,
   "id": "a4315db6-c976-4d28-8bbd-f092db3e5d71",
   "metadata": {},
   "outputs": [
    {
     "name": "stdin",
     "output_type": "stream",
     "text": [
      "Enter the password :  HOPE@123\n"
     ]
    },
    {
     "name": "stdout",
     "output_type": "stream",
     "text": [
      "Your password is correct\n"
     ]
    }
   ],
   "source": [
    "passw = \"HOPE@123\"\n",
    "upass = input(\"Enter the password : \")\n",
    "if passw == upass:\n",
    "    print(\"Your password is correct\")\n",
    "else:\n",
    "    print(\"Wrong password\")\n",
    "    "
   ]
  },
  {
   "cell_type": "code",
   "execution_count": 13,
   "id": "1c0c2d7c-db10-438d-9724-ce3605f0589b",
   "metadata": {},
   "outputs": [
    {
     "name": "stdin",
     "output_type": "stream",
     "text": [
      " 60\n"
     ]
    },
    {
     "name": "stdout",
     "output_type": "stream",
     "text": [
      "age : 60\n",
      "senior citizen\n"
     ]
    }
   ],
   "source": [
    "age = int(input())\n",
    "print(\"age :\",age)\n",
    "if(age < 18):\n",
    "    print(\"Children\")\n",
    "elif(age < 35):\n",
    "    print(\"Adult\")\n",
    "elif(age < 60):\n",
    "    print(\"Citizen\")\n",
    "else:\n",
    "    print(\"senior citizen\")\n"
   ]
  },
  {
   "cell_type": "code",
   "execution_count": 17,
   "id": "0cd6c291-3ec7-408c-a80a-5ff4aec9bfe4",
   "metadata": {},
   "outputs": [
    {
     "name": "stdin",
     "output_type": "stream",
     "text": [
      "Enter any number:  1\n"
     ]
    },
    {
     "name": "stdout",
     "output_type": "stream",
     "text": [
      "No is Positive\n"
     ]
    }
   ],
   "source": [
    "num = int(input(\"Enter any number: \"))\n",
    "if(num < 0):\n",
    "          print(\"No is Negative\")\n",
    "else:\n",
    "          print(\"No is Positive\")\n",
    "          \n",
    "          "
   ]
  },
  {
   "cell_type": "code",
   "execution_count": 28,
   "id": "55c805ad-cb96-48f1-85d5-fbdbdd6456eb",
   "metadata": {},
   "outputs": [
    {
     "name": "stdin",
     "output_type": "stream",
     "text": [
      "Enter a number to check: 22\n"
     ]
    },
    {
     "name": "stdout",
     "output_type": "stream",
     "text": [
      "No is not divisible by 5\n"
     ]
    }
   ],
   "source": [
    "num = int(input(\"Enter a number to check:\"))\n",
    "if num % 5 == 0:\n",
    "    print(\"No is divisible by 5\")\n",
    "else:\n",
    "    print(\"No is not divisible by 5\")\n",
    "    "
   ]
  },
  {
   "cell_type": "code",
   "execution_count": null,
   "id": "2c6c21f1-7037-42df-8be3-7c2b3811170d",
   "metadata": {},
   "outputs": [],
   "source": []
  },
  {
   "cell_type": "code",
   "execution_count": null,
   "id": "450f5e55-eff0-4bef-b31b-2bbae3b19cc3",
   "metadata": {},
   "outputs": [],
   "source": []
  },
  {
   "cell_type": "code",
   "execution_count": null,
   "id": "a2abd6cc-af2a-4572-947e-7058e0d64f8d",
   "metadata": {},
   "outputs": [],
   "source": []
  }
 ],
 "metadata": {
  "kernelspec": {
   "display_name": "Python 3 (ipykernel)",
   "language": "python",
   "name": "python3"
  },
  "language_info": {
   "codemirror_mode": {
    "name": "ipython",
    "version": 3
   },
   "file_extension": ".py",
   "mimetype": "text/x-python",
   "name": "python",
   "nbconvert_exporter": "python",
   "pygments_lexer": "ipython3",
   "version": "3.12.7"
  }
 },
 "nbformat": 4,
 "nbformat_minor": 5
}
