{
 "cells": [
  {
   "cell_type": "code",
   "execution_count": 1,
   "id": "388a3602-74ca-48b5-a25a-4b85061c0881",
   "metadata": {},
   "outputs": [
    {
     "name": "stdout",
     "output_type": "stream",
     "text": [
      "Welcome to Assignment-1\n"
     ]
    }
   ],
   "source": [
    "print(\"Welcome to Assignment-1\")"
   ]
  },
  {
   "cell_type": "code",
   "execution_count": 3,
   "id": "29661754-d338-4a92-b7ec-5f4f7c056146",
   "metadata": {},
   "outputs": [
    {
     "name": "stdout",
     "output_type": "stream",
     "text": [
      "Num1 =  10\n",
      "Num2 =  30\n",
      "Add  =  40\n"
     ]
    }
   ],
   "source": [
    "num1 = 10\n",
    "num2 = 30\n",
    "add = num1+num2\n",
    "print(\"Num1 = \", num1)\n",
    "print(\"Num2 = \", num2)\n",
    "print(\"Add  = \", add)"
   ]
  },
  {
   "cell_type": "code",
   "execution_count": null,
   "id": "427bb742-62d2-4070-b777-aac699552d4f",
   "metadata": {},
   "outputs": [],
   "source": [
    "#Body Mass Index\n",
    "\n"
   ]
  },
  {
   "cell_type": "code",
   "execution_count": 20,
   "id": "ecdd8724-b1da-401f-823b-41950eadf0ac",
   "metadata": {},
   "outputs": [
    {
     "name": "stdin",
     "output_type": "stream",
     "text": [
      "Enter the BMI Index : 22.3\n"
     ]
    },
    {
     "name": "stdout",
     "output_type": "stream",
     "text": [
      "Normal\n"
     ]
    }
   ],
   "source": [
    "bmi = float(input(\"Enter the BMI Index :\"))\n",
    "if(bmi < 18.5):\n",
    "    print(\"Underweight\")\n",
    "elif(bmi < 24.9):\n",
    "    print(\"Normal\")\n",
    "elif(bmi < 29.9):\n",
    "    print(\"Overweight\")\n",
    "elif(bmi < 34.9):\n",
    "    print(\"Obese\")\n",
    "elif(bmi < 39.9):\n",
    "    print(\"Severley Obese\")\n",
    "else:\n",
    "    print(\"Morbidly Obese\")\n",
    "\n",
    "\n"
   ]
  },
  {
   "cell_type": "code",
   "execution_count": null,
   "id": "330e33ec-d59a-4ec4-8bcb-3870dfb825eb",
   "metadata": {},
   "outputs": [],
   "source": [
    "\n"
   ]
  }
 ],
 "metadata": {
  "kernelspec": {
   "display_name": "Python 3 (ipykernel)",
   "language": "python",
   "name": "python3"
  },
  "language_info": {
   "codemirror_mode": {
    "name": "ipython",
    "version": 3
   },
   "file_extension": ".py",
   "mimetype": "text/x-python",
   "name": "python",
   "nbconvert_exporter": "python",
   "pygments_lexer": "ipython3",
   "version": "3.12.7"
  }
 },
 "nbformat": 4,
 "nbformat_minor": 5
}
