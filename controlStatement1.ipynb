{
 "cells": [
  {
   "cell_type": "code",
   "execution_count": 4,
   "id": "559e5490-e1d7-446f-b5c7-7b508b96e11a",
   "metadata": {},
   "outputs": [
    {
     "name": "stdin",
     "output_type": "stream",
     "text": [
      "Enter your age:  16\n"
     ]
    },
    {
     "name": "stdout",
     "output_type": "stream",
     "text": [
      "Wait here... our representative will meet you soon.\n"
     ]
    }
   ],
   "source": [
    "age=int(input(\"Enter your age: \"))\n",
    "if(age==18):\n",
    "    print(\"You are allowed to enter the hall.\")\n",
    "elif(age<18):\n",
    "    print(\"Wait here... our representative will meet you soon.\") \n"
   ]
  },
  {
   "cell_type": "code",
   "execution_count": null,
   "id": "d35564bf-0eb6-488f-9eef-624bc1a346f3",
   "metadata": {},
   "outputs": [],
   "source": []
  }
 ],
 "metadata": {
  "kernelspec": {
   "display_name": "Python 3 (ipykernel)",
   "language": "python",
   "name": "python3"
  },
  "language_info": {
   "codemirror_mode": {
    "name": "ipython",
    "version": 3
   },
   "file_extension": ".py",
   "mimetype": "text/x-python",
   "name": "python",
   "nbconvert_exporter": "python",
   "pygments_lexer": "ipython3",
   "version": "3.12.7"
  }
 },
 "nbformat": 4,
 "nbformat_minor": 5
}
