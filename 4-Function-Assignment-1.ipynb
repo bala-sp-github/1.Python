{
 "cells": [
  {
   "cell_type": "code",
   "execution_count": 13,
   "id": "c6b2f8d5-e68d-496f-b56e-fd9eb869c2d6",
   "metadata": {},
   "outputs": [],
   "source": [
    "class SubfieldsInAI:\n",
    "    def Subfields():\n",
    "        l1 = (\"Machine Learning\",\"Neural Networks\",\"Vision,Robotics\",\"Speech Processing\",\"Natural Language Processing\")\n",
    "        for l in l1:\n",
    "            print(l)"
   ]
  },
  {
   "cell_type": "code",
   "execution_count": 14,
   "id": "22e288d1-2836-43d3-acb9-4cf390bccee7",
   "metadata": {},
   "outputs": [
    {
     "name": "stdout",
     "output_type": "stream",
     "text": [
      "Machine Learning\n",
      "Neural Networks\n",
      "Vision,Robotics\n",
      "Speech Processing\n",
      "Natural Language Processing\n"
     ]
    }
   ],
   "source": [
    "SubfieldsInAI.Subfields()"
   ]
  },
  {
   "cell_type": "code",
   "execution_count": 15,
   "id": "639d2cfd-f475-40fa-b48a-e335faf9ad87",
   "metadata": {},
   "outputs": [],
   "source": [
    "class OddEven:\n",
    "    def OddEven():\n",
    "        num = int(input(\"Enter a number : \"))\n",
    "        if num % 2 == 0:\n",
    "            print(num, \"is Even number\")\n",
    "        else:\n",
    "            print(num, \"is Odd number\")"
   ]
  },
  {
   "cell_type": "code",
   "execution_count": 18,
   "id": "8e6431bb-5f0a-429d-baf3-110b5aa1b8c3",
   "metadata": {},
   "outputs": [
    {
     "name": "stdin",
     "output_type": "stream",
     "text": [
      "Enter a number :  52452\n"
     ]
    },
    {
     "name": "stdout",
     "output_type": "stream",
     "text": [
      "52452 is Even number\n"
     ]
    }
   ],
   "source": [
    "OddEven.OddEven()\n"
   ]
  },
  {
   "cell_type": "code",
   "execution_count": 31,
   "id": "820b4ff9-2b64-4d46-aeff-48361772603d",
   "metadata": {},
   "outputs": [],
   "source": [
    "class ElegiblityForMarriage():\n",
    "    def Elegible():\n",
    "        age = int (input(\"Enter your age :\"))\n",
    "        gender = input(\"Enter your gender (Male/Female) :\")\n",
    "        print(\"Your Gender : \", gender)\n",
    "        print(\"Your Age : \", age)\n",
    "        if gender == \"Male\" and age < 21:\n",
    "            print(\"Not Eligible\")\n",
    "        elif gender == \"Female\" and age < 18:\n",
    "            print(\"Not Eligible\")\n",
    "        else:\n",
    "            print(\"Eligible\")\n",
    "            \n"
   ]
  },
  {
   "cell_type": "code",
   "execution_count": 32,
   "id": "27519341-4a4f-4e01-b334-314a7e46ba92",
   "metadata": {},
   "outputs": [
    {
     "name": "stdin",
     "output_type": "stream",
     "text": [
      "Enter your age : 17\n",
      "Enter your gender (Male/Female) : Female\n"
     ]
    },
    {
     "name": "stdout",
     "output_type": "stream",
     "text": [
      "Your Gender :  Female\n",
      "Your Age :  17\n",
      "Not Eligible\n"
     ]
    }
   ],
   "source": [
    "ElegiblityForMarriage.Elegible()"
   ]
  },
  {
   "cell_type": "code",
   "execution_count": 41,
   "id": "85fb9200-f92f-40ba-83ff-c67e5ca2328a",
   "metadata": {},
   "outputs": [],
   "source": [
    "class FindPercent:\n",
    "    def percentage():\n",
    "        tot = 0\n",
    "        for i in range(5):\n",
    "            mark = int(input(\"Enter Subject \" + str(i + 1) + \" Mark: \"))\n",
    "            print(\"Subject \" + str(i + 1) + \": \", mark)\n",
    "            tot += mark\n",
    "        print(\"Total:\", tot)\n",
    "        print(\"Percentage:\", (tot / 5))"
   ]
  },
  {
   "cell_type": "code",
   "execution_count": 42,
   "id": "bb22d1a4-a939-49bd-98cd-f0a222f55393",
   "metadata": {},
   "outputs": [
    {
     "name": "stdin",
     "output_type": "stream",
     "text": [
      "Enter Subject 1 Mark:  67\n"
     ]
    },
    {
     "name": "stdout",
     "output_type": "stream",
     "text": [
      "Subject 1:  67\n"
     ]
    },
    {
     "name": "stdin",
     "output_type": "stream",
     "text": [
      "Enter Subject 2 Mark:  78\n"
     ]
    },
    {
     "name": "stdout",
     "output_type": "stream",
     "text": [
      "Subject 2:  78\n"
     ]
    },
    {
     "name": "stdin",
     "output_type": "stream",
     "text": [
      "Enter Subject 3 Mark:  89\n"
     ]
    },
    {
     "name": "stdout",
     "output_type": "stream",
     "text": [
      "Subject 3:  89\n"
     ]
    },
    {
     "name": "stdin",
     "output_type": "stream",
     "text": [
      "Enter Subject 4 Mark:  90\n"
     ]
    },
    {
     "name": "stdout",
     "output_type": "stream",
     "text": [
      "Subject 4:  90\n"
     ]
    },
    {
     "name": "stdin",
     "output_type": "stream",
     "text": [
      "Enter Subject 5 Mark:  100\n"
     ]
    },
    {
     "name": "stdout",
     "output_type": "stream",
     "text": [
      "Subject 5:  100\n",
      "Total: 424\n",
      "Percentage: 84.8\n"
     ]
    }
   ],
   "source": [
    "FindPercent.percentage()\n",
    "\n"
   ]
  },
  {
   "cell_type": "code",
   "execution_count": 59,
   "id": "a88bc3ea-dcb6-44c2-934e-7bae362601fd",
   "metadata": {},
   "outputs": [],
   "source": [
    "class FindPercent:\n",
    "    def percentage():\n",
    "        tot = 0\n",
    "        m = 0\n",
    "        marks = (98, 87, 95, 95, 93)\n",
    "        for i in marks:\n",
    "            m += 1\n",
    "            tot += i\n",
    "            print(\"Subject\" + str(m) + \" = \" + str(i))\n",
    "        print(\"Total:\", tot)\n",
    "        print(\"Percentage:\", (tot / len(marks)))"
   ]
  },
  {
   "cell_type": "code",
   "execution_count": 60,
   "id": "024081c5-4460-45cf-b5a8-9bbb62156467",
   "metadata": {},
   "outputs": [
    {
     "name": "stdout",
     "output_type": "stream",
     "text": [
      "Subject1 = 98\n",
      "Subject2 = 87\n",
      "Subject3 = 95\n",
      "Subject4 = 95\n",
      "Subject5 = 93\n",
      "Total: 468\n",
      "Percentage: 93.6\n"
     ]
    }
   ],
   "source": [
    "FindPercent.percentage()"
   ]
  },
  {
   "cell_type": "code",
   "execution_count": 61,
   "id": "74ac5b83-b3d4-4014-846e-e2df4f80e5c1",
   "metadata": {},
   "outputs": [],
   "source": [
    "class triangle:\n",
    "    def triangle():\n",
    "        # Area calculation\n",
    "        height = 32\n",
    "        breadth = 34\n",
    "        print(\"Height:\", height)\n",
    "        print(\"Breadth:\", breadth)\n",
    "        print(\"Area formula: (Height*Breadth)/2\")\n",
    "        area = (height * breadth) / 2\n",
    "        print(\"Area of Triangle:\", area)\n",
    "\n",
    "        # Perimeter calculation\n",
    "        height1 = 2\n",
    "        height2 = 4\n",
    "        breadth = 4\n",
    "        print(\"Height1:\", height1)\n",
    "        print(\"Height2:\", height2)\n",
    "        print(\"Breadth:\", breadth)\n",
    "        print(\"Perimeter formula: Height1+Height2+Breadth\")\n",
    "        perimeter = height1 + height2 + breadth\n",
    "        print(\"Perimeter of Triangle:\", perimeter)\n",
    "\n"
   ]
  },
  {
   "cell_type": "code",
   "execution_count": 62,
   "id": "c6ff7335-e3fc-40f7-bd7d-91e5072e05b6",
   "metadata": {},
   "outputs": [
    {
     "name": "stdout",
     "output_type": "stream",
     "text": [
      "Height: 32\n",
      "Breadth: 34\n",
      "Area formula: (Height*Breadth)/2\n",
      "Area of Triangle: 544.0\n",
      "Height1: 2\n",
      "Height2: 4\n",
      "Breadth: 4\n",
      "Perimeter formula: Height1+Height2+Breadth\n",
      "Perimeter of Triangle: 10\n"
     ]
    }
   ],
   "source": [
    "triangle.triangle()\n"
   ]
  },
  {
   "cell_type": "code",
   "execution_count": null,
   "id": "9993e486-1044-48ce-b012-44c0b4dfaf55",
   "metadata": {},
   "outputs": [],
   "source": []
  }
 ],
 "metadata": {
  "kernelspec": {
   "display_name": "Python 3 (ipykernel)",
   "language": "python",
   "name": "python3"
  },
  "language_info": {
   "codemirror_mode": {
    "name": "ipython",
    "version": 3
   },
   "file_extension": ".py",
   "mimetype": "text/x-python",
   "name": "python",
   "nbconvert_exporter": "python",
   "pygments_lexer": "ipython3",
   "version": "3.12.7"
  }
 },
 "nbformat": 4,
 "nbformat_minor": 5
}
